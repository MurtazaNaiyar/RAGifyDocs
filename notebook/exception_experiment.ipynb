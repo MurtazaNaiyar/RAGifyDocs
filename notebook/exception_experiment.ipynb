{
 "cells": [
  {
   "cell_type": "code",
   "execution_count": 17,
   "id": "58be6e8e",
   "metadata": {},
   "outputs": [
    {
     "name": "stdout",
     "output_type": "stream",
     "text": [
      "Hello World\n"
     ]
    }
   ],
   "source": [
    "print(\"Hello World\")"
   ]
  },
  {
   "cell_type": "code",
   "execution_count": 24,
   "id": "23202598",
   "metadata": {},
   "outputs": [],
   "source": [
    "import sys\n",
    "import traceback\n",
    "from logger.custom_logger import CustomLogger"
   ]
  },
  {
   "cell_type": "code",
   "execution_count": 22,
   "id": "1362498e",
   "metadata": {},
   "outputs": [],
   "source": [
    "logger=CustomLogger().get_logger(\"exception_experiment\")"
   ]
  },
  {
   "cell_type": "code",
   "execution_count": null,
   "id": "eee0d047",
   "metadata": {},
   "outputs": [
    {
     "ename": "DocumentPortalException",
     "evalue": "Error in [/var/folders/0j/wzb72np956s3kckc3gj02wfc0000gn/T/ipykernel_71701/4256372791.py] at line [18] \n        Message: [division by zero]\n        Traceback: [Traceback (most recent call last):\n  File \"/var/folders/0j/wzb72np956s3kckc3gj02wfc0000gn/T/ipykernel_71701/4256372791.py\", line 18, in <module>\n    a= 1 / 0\nZeroDivisionError: division by zero\n]",
     "output_type": "error",
     "traceback": [
      "\u001b[0;31m---------------------------------------------------------------------------\u001b[0m",
      "\u001b[0;31mZeroDivisionError\u001b[0m                         Traceback (most recent call last)",
      "Cell \u001b[0;32mIn[23], line 18\u001b[0m\n\u001b[1;32m     16\u001b[0m \u001b[38;5;28;01mtry\u001b[39;00m:\n\u001b[1;32m     17\u001b[0m     \u001b[38;5;66;03m# Simulate an error\u001b[39;00m\n\u001b[0;32m---> 18\u001b[0m    a\u001b[38;5;241m=\u001b[39m \u001b[38;5;241;43m1\u001b[39;49m\u001b[43m \u001b[49m\u001b[38;5;241;43m/\u001b[39;49m\u001b[43m \u001b[49m\u001b[38;5;241;43m0\u001b[39;49m\n\u001b[1;32m     19\u001b[0m    \u001b[38;5;28mprint\u001b[39m(a)\n",
      "\u001b[0;31mZeroDivisionError\u001b[0m: division by zero",
      "\nDuring handling of the above exception, another exception occurred:\n",
      "\u001b[0;31mDocumentPortalException\u001b[0m                   Traceback (most recent call last)",
      "Cell \u001b[0;32mIn[23], line 23\u001b[0m\n\u001b[1;32m     21\u001b[0m app_exec\u001b[38;5;241m=\u001b[39mDocumentPortalException(e,sys)\n\u001b[1;32m     22\u001b[0m logger\u001b[38;5;241m.\u001b[39merror(\u001b[38;5;28mstr\u001b[39m(app_exec))\n\u001b[0;32m---> 23\u001b[0m \u001b[38;5;28;01mraise\u001b[39;00m app_exec\n",
      "\u001b[0;31mDocumentPortalException\u001b[0m: Error in [/var/folders/0j/wzb72np956s3kckc3gj02wfc0000gn/T/ipykernel_71701/4256372791.py] at line [18] \n        Message: [division by zero]\n        Traceback: [Traceback (most recent call last):\n  File \"/var/folders/0j/wzb72np956s3kckc3gj02wfc0000gn/T/ipykernel_71701/4256372791.py\", line 18, in <module>\n    a= 1 / 0\nZeroDivisionError: division by zero\n]"
     ]
    }
   ],
   "source": [
    "class DocumentPortalException(Exception):\n",
    "    \"\"\"Base class for all exceptions in the Document Portal application.\"\"\"\n",
    "    def __init__(self,error_message:str,error_details:sys):\n",
    "        _,_,exc_tb=error_details.exc_info()\n",
    "        self.file_name=exc_tb.tb_frame.f_code.co_filename\n",
    "        self.line_no=exc_tb.tb_lineno\n",
    "        self.error_message=str(error_message)\n",
    "        self.traceback_str=''.join(traceback.format_exception(*error_details.exc_info()))\n",
    "    \n",
    "    def __str__(self):\n",
    "        return f\"\"\"Error in [{self.file_name}] at line [{self.line_no}] \n",
    "        Message: [{self.error_message}]\n",
    "        Traceback: [{self.traceback_str}]\"\"\"\n",
    "    \n",
    "if __name__ == \"__main__\":\n",
    "    try:\n",
    "        # Simulate an error\n",
    "       a= 1 / 0\n",
    "    except Exception as e:\n",
    "        app_exec=DocumentPortalException(e,sys)\n",
    "        logger.error(str(app_exec))\n",
    "        raise app_exec"
   ]
  },
  {
   "cell_type": "code",
   "execution_count": null,
   "id": "a8ec6c9e",
   "metadata": {},
   "outputs": [],
   "source": []
  },
  {
   "cell_type": "code",
   "execution_count": null,
   "id": "f5ba56d2",
   "metadata": {},
   "outputs": [],
   "source": []
  }
 ],
 "metadata": {
  "kernelspec": {
   "display_name": "Python 3",
   "language": "python",
   "name": "python3"
  },
  "language_info": {
   "codemirror_mode": {
    "name": "ipython",
    "version": 3
   },
   "file_extension": ".py",
   "mimetype": "text/x-python",
   "name": "python",
   "nbconvert_exporter": "python",
   "pygments_lexer": "ipython3",
   "version": "3.10.18"
  }
 },
 "nbformat": 4,
 "nbformat_minor": 5
}
